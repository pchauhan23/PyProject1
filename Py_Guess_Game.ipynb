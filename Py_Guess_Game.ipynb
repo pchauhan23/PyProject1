{
  "nbformat": 4,
  "nbformat_minor": 0,
  "metadata": {
    "colab": {
      "name": "Py Guess Game.ipynb",
      "provenance": [],
      "collapsed_sections": []
    },
    "kernelspec": {
      "name": "python3",
      "display_name": "Python 3"
    }
  },
  "cells": [
    {
      "cell_type": "code",
      "metadata": {
        "id": "g6-ZbPD65lhq",
        "colab_type": "code",
        "outputId": "c4c3bc34-3b72-488f-d034-fda5d75a1f1a",
        "colab": {
          "base_uri": "https://localhost:8080/",
          "height": 323
        }
      },
      "source": [
        "import random\n",
        "print (\"Number Guess Game Between 0-20\")\n",
        "start=0\n",
        "end=20\n",
        "computerNumber=random.randint(0,21)\n",
        "while(True):\n",
        "    userNumber=int(input(\"Enter your Number:\"))\n",
        "    if(computerNumber == userNumber):\n",
        "        print(\"Your Guess is correct\")\n",
        "        break\n",
        "    elif(computerNumber>userNumber):\n",
        "        end=computerNumber\n",
        "        midnumber=(start+end)/2\n",
        "        print(midnumber)\n",
        "        if(midnumber>userNumber):\n",
        "            print(\"Your Number is Low\")\n",
        "\n",
        "        else:\n",
        "            print(\"Too Low\")\n",
        "    elif (computerNumber<userNumber):\n",
        "         start=computerNumber\n",
        "         midnumber=(start+end)/2\n",
        "         print (midnumber)\n",
        "         if(midnumber>userNumber):\n",
        "            print (\"Your Number is High\")\n",
        "         else:\n",
        "            print(\"Too High\")\n",
        "    else:\n",
        "         print(\"Not a valid Number\")\n"
      ],
      "execution_count": 0,
      "outputs": [
        {
          "output_type": "stream",
          "text": [
            "Number Guess Game Between 0-20\n",
            "Enter your Number:8\n",
            "7.0\n",
            "Too Low\n",
            "Enter your Number:10\n",
            "7.0\n",
            "Too Low\n",
            "Enter your Number:15\n",
            "7.0\n",
            "Too High\n",
            "Enter your Number:12\n",
            "7.0\n",
            "Too Low\n",
            "Enter your Number:13\n",
            "7.0\n",
            "Too Low\n",
            "Enter your Number:14\n",
            "Your Guess is correct\n"
          ],
          "name": "stdout"
        }
      ]
    }
  ]
}